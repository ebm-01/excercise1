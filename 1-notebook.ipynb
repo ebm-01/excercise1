{
 "cells": [
  {
   "cell_type": "markdown",
   "metadata": {},
   "source": [
    "<center>\n",
    "    <img src=\"https://cf-courses-data.s3.us.cloud-object-storage.appdomain.cloud/IBMDeveloperSkillsNetwork-DS0105EN-SkillsNetwork/labs/Module2/images/SN_web_lightmode.png\" width=\"300\" alt=\"cognitiveclass.ai logo\">\n",
    "</center>\n"
   ]
  },
  {
   "cell_type": "markdown",
   "metadata": {},
   "source": [
    "#### Add your code below following the instructions given in the course\n"
   ]
  },
  {
   "cell_type": "markdown",
   "metadata": {},
   "source": [
    "\n",
    "# Jupyter Assignment \n",
    "\n",
    "## Introduction\n",
    "hi \n",
    "\n",
    "\n",
    "## Data Science Languages\n",
    "\n",
    "- **Python** used for data analysis, machine learning\n",
    "- **R** used for statistical analysis and data visualization\n",
    "- **Julia** used for numerical computing\n",
    "- **SQL** querying and managing data in relational databases\n",
    "\n",
    "## Popular Data Science Libraries\n",
    "\n",
    "### Data Manipulation & Analysis\n",
    "- **Pandas** Data structures and data analysis tools.\n",
    "- **NumPy** Support for large, multi-dimensional arrays and matrices, along with mathematical functions.\n",
    "\n",
    "### Data Visualization\n",
    "- **Matplotlib** Basic plotting (line, bar, scatter, etc.).\n",
    "\n",
    "### Statistical Analysis\n",
    "- **SciPy** Algorithms for optimization, integration, interpolation, and statistics   \n",
    "\n",
    "### Machine Learning\n",
    "- **TensorFlow** End-to-end open-source platform for machine learning.\n",
    "- **Keras** High-level API for building and training deep learning models.\n",
    "- **PyTorch** Deep learning framework emphasizing flexibility and speed.\n",
    "\n",
    "## Data Science Tools\n",
    "\n",
    "| Tool            | Category                  |\n",
    "|-----------------|---------------------------|\n",
    "| Jupyter Notebook| Interactive Development   |\n",
    "| RStudio         | IDE                       |\n",
    "| Tableau         | Data Visualization        |\n",
    "| Power BI        | Business Intelligence     |\n",
    "\n",
    "## Arithmetic Expression Examples\n",
    "\n",
    "Arithmetic expressions are the foundation of numerical operations in Python. These expressions combine **numbers**, **variables**, and **operators** to compute values.\n",
    "\n",
    "### Common Arithmetic Operators\n",
    "\n",
    "| Operator | Operation         | Example       | Result |\n",
    "|----------|-------------------|---------------|--------|\n",
    "| `+`      | Addition           | `5 + 3`       | `8`    |\n",
    "| `-`      | Subtraction        | `10 - 4`      | `6`    |\n",
    "| `*`      | Multiplication     | `7 * 2`       | `14`   |\n",
    "\n",
    "## Exercise 8 - Multiply and Add Numbers\n",
    "\n",
    "In this exercise, evaluate the arithmetic expression `(3 * 4) + 5`.\n",
    "\n",
    "- Insert a comment line before the expression explaining the operation, for example:\n",
    "  *This is a simple arithmetic expression to multiply then add integers.*\n",
    "- the output is `17`.\n",
    "\n",
    "\n",
    "## Convert Minutes to Hours\n",
    "\n",
    "In this exercise, convert 200 minutes into hours.\n",
    "`200/60`.\n",
    "the output is `3.333`.\n",
    "\n",
    "## Objectives\n",
    "\n",
    "- Understand basic arithmetic operations in Python\n",
    "- Learn how to perform addition, subtraction, multiplication, and division\n",
    "- Convert time units, such as minutes to hours\n",
    "- Explore common data science languages and tools\n",
    "- Get familiar with popular data science libraries\n",
    "\n",
    "\n",
    "## Author\n",
    "\n",
    "**EBM**\n",
    "\n",
    "       "
   ]
  },
  {
   "cell_type": "code",
   "execution_count": null,
   "metadata": {},
   "outputs": [],
   "source": []
  },
  {
   "cell_type": "code",
   "execution_count": null,
   "metadata": {},
   "outputs": [],
   "source": []
  },
  {
   "cell_type": "code",
   "execution_count": 10,
   "metadata": {},
   "outputs": [
    {
     "ename": "SyntaxError",
     "evalue": "invalid syntax (2954118965.py, line 3)",
     "output_type": "error",
     "traceback": [
      "\u001b[0;36m  Cell \u001b[0;32mIn[10], line 3\u001b[0;36m\u001b[0m\n\u001b[0;31m    - **Python** used for data analysis, machine learning\u001b[0m\n\u001b[0m      ^\u001b[0m\n\u001b[0;31mSyntaxError\u001b[0m\u001b[0;31m:\u001b[0m invalid syntax\n"
     ]
    }
   ],
   "source": [
    "\n",
    "       "
   ]
  },
  {
   "cell_type": "markdown",
   "metadata": {},
   "source": []
  }
 ],
 "metadata": {
  "kernelspec": {
   "display_name": "Python 3 (ipykernel)",
   "language": "python",
   "name": "python3"
  },
  "language_info": {
   "codemirror_mode": {
    "name": "ipython",
    "version": 3
   },
   "file_extension": ".py",
   "mimetype": "text/x-python",
   "name": "python",
   "nbconvert_exporter": "python",
   "pygments_lexer": "ipython3",
   "version": "3.12.8"
  }
 },
 "nbformat": 4,
 "nbformat_minor": 4
}
